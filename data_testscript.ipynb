{
 "cells": [
  {
   "cell_type": "markdown",
   "metadata": {},
   "source": [
    "# data_testscript.ipynb\n",
    "\n",
    "A Jupyter notebook for testing and development of the AmBIENCe2ABM module.\n",
    "First, let's simply import the module."
   ]
  },
  {
   "cell_type": "code",
   "execution_count": null,
   "metadata": {},
   "outputs": [],
   "source": [
    "import ambience2abm as amb"
   ]
  },
  {
   "cell_type": "markdown",
   "metadata": {},
   "source": [
    "## Read the raw data and assumptions\n",
    "\n",
    "The raw data and assumptions are handled using the `AmBIENCeDataset` object,\n",
    "with the constructor requiring values for the assumed `interior_node_depth` and `period_of_variations` *(explained in the docstring)*.\n",
    "\n",
    "The following cells demonstrate `AmBIENCeDataset` functionality."
   ]
  },
  {
   "cell_type": "code",
   "execution_count": null,
   "metadata": {},
   "outputs": [],
   "source": [
    "### Read the raw data and assumptions.\n",
    "\n",
    "ambience = amb.AmBIENCeDataset(\n",
    "    interior_node_depth=0.1,\n",
    "    period_of_variations=1209600,\n",
    ")\n",
    "ambience.data"
   ]
  },
  {
   "cell_type": "code",
   "execution_count": null,
   "metadata": {},
   "outputs": [],
   "source": [
    "### Create unique building periods\n",
    "\n",
    "building_periods = ambience.building_periods()\n",
    "building_periods"
   ]
  },
  {
   "cell_type": "code",
   "execution_count": null,
   "metadata": {},
   "outputs": [],
   "source": [
    "### Check the building type to stock mappings.\n",
    "\n",
    "ambience.building_type_mappings"
   ]
  },
  {
   "cell_type": "code",
   "execution_count": null,
   "metadata": {},
   "outputs": [],
   "source": [
    "### Check the building stock statistics\n",
    "\n",
    "ambience.calculate_building_stock_statistics()"
   ]
  },
  {
   "cell_type": "code",
   "execution_count": null,
   "metadata": {},
   "outputs": [],
   "source": [
    "### Check structure type assumptions\n",
    "\n",
    "ambience.structure_types"
   ]
  },
  {
   "cell_type": "code",
   "execution_count": null,
   "metadata": {},
   "outputs": [],
   "source": [
    "### Calculate the structure statistics\n",
    "\n",
    "ambience.calculate_structure_statistics()"
   ]
  },
  {
   "cell_type": "code",
   "execution_count": null,
   "metadata": {},
   "outputs": [],
   "source": [
    "### Check fenestration assumptions.\n",
    "\n",
    "ambience.fenestration"
   ]
  },
  {
   "cell_type": "code",
   "execution_count": null,
   "metadata": {},
   "outputs": [],
   "source": [
    "### Check ventilation assumptions.\n",
    "\n",
    "ambience.ventilation"
   ]
  },
  {
   "cell_type": "code",
   "execution_count": null,
   "metadata": {},
   "outputs": [],
   "source": [
    "### Calculate ventilation and fenestration statistics\n",
    "\n",
    "ambience.calculate_ventilation_and_fenestration_statistics()"
   ]
  },
  {
   "cell_type": "markdown",
   "metadata": {},
   "source": [
    "## Check building envelope dimension data\n",
    "\n",
    "Since the database provides us with data about the assumed dimensions of the\n",
    "building envelope, we can check it against the assumptions detailed in the AmBIENCe\n",
    "D4.1 deliverable. Mostly I'm worried about the ground floor, roof, and number of storeys."
   ]
  },
  {
   "cell_type": "code",
   "execution_count": null,
   "metadata": {},
   "outputs": [],
   "source": [
    "### Check if ground floor and ceiling areas match\n",
    "\n",
    "cols = [\n",
    "    \"REFERENCE BUILDING GROUND FLOOR AREA (m2)\",\n",
    "    \"REFERENCE BUILDING ROOF AREA (m2)\"\n",
    "]\n",
    "inds = abs(ambience.data[cols[0]] - ambience.data[cols[1]]) > 1\n",
    "df1 = ambience.data.loc[inds,cols]\n",
    "df1"
   ]
  },
  {
   "cell_type": "markdown",
   "metadata": {},
   "source": [
    "So roughly 10% of the reference buildings don't seem to make perfect sense.\n",
    "According to the deliverable:\n",
    "\n",
    ">The roof is considered to be flat.\n",
    "\n",
    ">The building is assumed to be a cuboid.\n",
    "\n",
    "Which for these buildings mean that the walls can't be perpendicular to the ground.\n",
    "Regardless, if we further examine the ground floor area vs the useful floor area\n",
    "and the number of storeys:"
   ]
  },
  {
   "cell_type": "code",
   "execution_count": null,
   "metadata": {},
   "outputs": [],
   "source": [
    "### Check useful floor area vs ground floor area and storeys.\n",
    "\n",
    "cols = [\n",
    "    \"REFERENCE BUILDING USEFUL FLOOR AREA (m2)\",\n",
    "    \"NUMBER OF REFERENCE BUILDING STOREYS\",\n",
    "    \"REFERENCE BUILDING GROUND FLOOR AREA (m2)\",\n",
    "]\n",
    "inds = abs(\n",
    "    ambience.data[cols[0]] / ambience.data[cols[1]] - ambience.data[cols[2]]\n",
    ") > 1\n",
    "df2 = ambience.data.loc[inds,cols]\n",
    "df2"
   ]
  },
  {
   "cell_type": "markdown",
   "metadata": {},
   "source": [
    "and almost 20% of the reference buildings don't have number of floors matching the\n",
    "useful and ground floor areas, if the buildings are assumed cuboids with walls\n",
    "perpendicular to the ground."
   ]
  },
  {
   "cell_type": "code",
   "execution_count": null,
   "metadata": {},
   "outputs": [],
   "source": [
    "### Check common cases?\n",
    "\n",
    "len(set(df1.index.to_list() + df2.index.to_list()))"
   ]
  },
  {
   "cell_type": "markdown",
   "metadata": {},
   "source": [
    "so at least most of the cases seem to have this erronous geometry in common.\n",
    "\n",
    "\n",
    "## Process the full ArchetypeBuildingModel.jl dataset\n",
    "\n",
    "The `ABMDataset` object contains the final processed data compatible with `ArchetypeBuildingModel.jl`,\n",
    "as well as functions for exporting the Data Package containing said processed data.\n",
    "The `ABMDataset` objects are constructed based on the raw `AmBIENCeDataset` object.\n"
   ]
  },
  {
   "cell_type": "code",
   "execution_count": null,
   "metadata": {},
   "outputs": [],
   "source": [
    "### Process the full ABM Dataset\n",
    "\n",
    "abmdata = amb.ABMDataset(ambience)\n",
    "abmdata"
   ]
  },
  {
   "cell_type": "code",
   "execution_count": null,
   "metadata": {},
   "outputs": [],
   "source": [
    "### Inspect location ids\n",
    "\n",
    "abmdata.location_id"
   ]
  },
  {
   "cell_type": "code",
   "execution_count": null,
   "metadata": {},
   "outputs": [],
   "source": [
    "### Inspect building periods\n",
    "\n",
    "abmdata.building_period"
   ]
  },
  {
   "cell_type": "code",
   "execution_count": null,
   "metadata": {},
   "outputs": [],
   "source": [
    "### Inspect building stocks\n",
    "\n",
    "abmdata.building_stock"
   ]
  },
  {
   "cell_type": "code",
   "execution_count": null,
   "metadata": {},
   "outputs": [],
   "source": [
    "### Inspect structure types\n",
    "\n",
    "abmdata.structure_type"
   ]
  },
  {
   "cell_type": "code",
   "execution_count": null,
   "metadata": {},
   "outputs": [],
   "source": [
    "### Inspect building stock statistics\n",
    "\n",
    "abmdata.building_stock_statistics"
   ]
  },
  {
   "cell_type": "code",
   "execution_count": null,
   "metadata": {},
   "outputs": [],
   "source": [
    "### Inspect structure statistics\n",
    "\n",
    "abmdata.structure_statistics"
   ]
  },
  {
   "cell_type": "code",
   "execution_count": null,
   "metadata": {},
   "outputs": [],
   "source": [
    "### Inspect ventilation and fenestration statistics\n",
    "\n",
    "abmdata.ventilation_and_fenestration_statistics"
   ]
  },
  {
   "cell_type": "code",
   "execution_count": null,
   "metadata": {},
   "outputs": [],
   "source": [
    "### Try exporting to csvs and creating the datapackage\n",
    "\n",
    "abmdata.export_csvs()\n",
    "pkg = abmdata.create_datapackage()\n",
    "pkg"
   ]
  },
  {
   "cell_type": "markdown",
   "metadata": {},
   "source": [
    "## Check processed data against the original.\n",
    "\n",
    "Let's do a few comparisons to try and see that the data processing is performing as intended.\n",
    "For starters, let's make sure that aggregating over the `BUILDING MATERIAL COMBINATION CODE`\n",
    "and disaggregating over the `HEATING SYSTEM PREVALENCY ON BUILDING STOCK` haven't distorted the\n",
    "total heated floor area."
   ]
  },
  {
   "cell_type": "code",
   "execution_count": null,
   "metadata": {},
   "outputs": [],
   "source": [
    "### Calculate equally aggregated numbers of buildings both from the original data and the processed output.\n",
    "\n",
    "# Declare cols to aggregate over\n",
    "cols = [\n",
    "    \"building_type\",\n",
    "    \"building_period\",\n",
    "    \"location_id\"\n",
    "]\n",
    "\n",
    "# Renaming and aggregation of original data.\n",
    "ambience_total_numbers = ambience.data.rename(\n",
    "    columns={\n",
    "        \"REFERENCE BUILDING USE CODE\": \"building_type\",\n",
    "        \"REFERENCE BUILDING COUNTRY CODE\": \"location_id\",\n",
    "        \"NUMBER OF REFERENCE BUILDINGS IN THE BUILDING STOCK SEGMENT\": \"number_of_buildings\"\n",
    "    }\n",
    ").groupby(cols).agg({\"number_of_buildings\": \"sum\"})\n",
    "\n",
    "# Aggregation of processed data.\n",
    "abm_total_numbers = abmdata.building_stock_statistics.reset_index().groupby(cols).agg({\"number_of_buildings\": \"sum\"})\n",
    "\n",
    "# Check the differences (neglecting near-floating-point level)\n",
    "num_diff = ambience_total_numbers - abm_total_numbers\n",
    "num_diff[num_diff[\"number_of_buildings\"].abs() > 1e-6]"
   ]
  },
  {
   "cell_type": "markdown",
   "metadata": {},
   "source": [
    "Which should be empty.\n",
    "There was a bug in the raw heatsys data for `DE-OTH-2011-2021`\n",
    "which required normalizing the heating system prevalencies.\n",
    "\n",
    "Next, let's check that the reference building useful floor areas haven't been distorted."
   ]
  },
  {
   "cell_type": "code",
   "execution_count": null,
   "metadata": {},
   "outputs": [],
   "source": [
    "### Check that reference building areas don't get distorted.\n",
    "\n",
    "# Declare cols to aggregate over\n",
    "cols = [\n",
    "    \"building_type\",\n",
    "    \"building_period\",\n",
    "    \"location_id\"\n",
    "]\n",
    "\n",
    "# Renaming original dataset fields for join and resetting indices.\n",
    "ambience_ufa = ambience.data.rename(\n",
    "    columns={\n",
    "        \"REFERENCE BUILDING USE CODE\": \"building_type\",\n",
    "        \"REFERENCE BUILDING COUNTRY CODE\": \"location_id\",\n",
    "    }\n",
    ").reset_index().set_index(cols)\n",
    "\n",
    "# Join with processed building stocks statistics\n",
    "abm = abmdata.building_stock_statistics.reset_index().set_index(cols)\n",
    "ufa = ambience_ufa.join(abm)\n",
    "\n",
    "# Check rows where the original reference building floor area doesn't match the processed floor area.\n",
    "vals = [\n",
    "    \"REFERENCE BUILDING USEFUL FLOOR AREA (m2)\",\n",
    "    \"average_gross_floor_area_m2_per_building\",\n",
    "] \n",
    "ufa[ufa[vals[0]] != ufa[vals[1]]][vals]"
   ]
  },
  {
   "cell_type": "markdown",
   "metadata": {},
   "source": [
    "Which should again be empty.\n",
    "\n",
    "If both of the above checks produced empty dataframes,\n",
    "the building stock statistics processing should be working as intended.\n",
    "\n",
    "\n",
    "### Check structural data processing.\n",
    "\n",
    "Unfortunately, the structural data is a bit different between the AmBIENCe raw data\n",
    "and the format required by the `ArchetypeBuildingModel.jl`.\n",
    "The final `structure_statistics` doesn't include different building materials separately,\n",
    "and instead aggregates them based on their assumed prevalency on the building stock.\n",
    "Furthermore, the base floors are assumed to be ground-coupled, with their effective U-value\n",
    "being calculated based on the simplified method by\n",
    "*Kissock. K., Simplified Model for Ground Heat Transfer from Slab-on-Grade Buildings, (c) 2013 ASHRAE*.\n",
    "Still, we can compare the processed total U-values to the saved design U-values from the original data.\n",
    "Similarly, interior structures are assumed to omit insulation, so their U-values won't match."
   ]
  },
  {
   "cell_type": "code",
   "execution_count": null,
   "metadata": {},
   "outputs": [],
   "source": [
    "### Check design vs total U-values of the processed structures.\n",
    "\n",
    "vals = [\"design_U_value_W_m2K\", \"total_U_value_W_m2K\"]\n",
    "\n",
    "uvals = abmdata.structure_statistics[\n",
    "    (\n",
    "        abmdata.structure_statistics[vals[0]]\n",
    "        - abmdata.structure_statistics[vals[1]]\n",
    "    ).abs() > 1e-6\n",
    "]\n",
    "uvals[vals]"
   ]
  },
  {
   "cell_type": "markdown",
   "metadata": {},
   "source": [
    "As we can see, there are considerable differences in the design U-values in the raw data\n",
    "versus the processed total U-values for a significant number of rows.\n",
    "However, checking the problemating `structure_type`:"
   ]
  },
  {
   "cell_type": "code",
   "execution_count": null,
   "metadata": {},
   "outputs": [],
   "source": [
    "### Check problemating structure types\n",
    "\n",
    "uvals.reset_index()[\"structure_type\"].unique()"
   ]
  },
  {
   "cell_type": "markdown",
   "metadata": {},
   "source": [
    "We should only get `base_floor, partition_wall, separating_floor`,\n",
    "as we know them to be calculated different from AmBIENCe data.\n",
    "\n",
    "\n",
    "#### Test interior node depth and period of variations\n",
    "\n",
    "The assumed values of the `interior_node_depth` and `period_of_variations` impact the processing\n",
    "of the interior and exterior U-values, as well as the effective thermal mass.\n",
    "\n",
    "1. Increasing the `interior_node_depth` should decrease the internal U-value and increase the external U-value, and vice versa. However, the total U-value should remain unaffected.\n",
    "2. Increasing the `period_of_variations` should increase the effective thermal mass."
   ]
  },
  {
   "cell_type": "code",
   "execution_count": null,
   "metadata": {},
   "outputs": [],
   "source": [
    "### Check structure properties with different assumptions.\n",
    "\n",
    "# Assumption tuples and initialize results dictionary.\n",
    "tups = [(0.0, 60*60), (0.5, 24*60*60), (1.0, 7*24*60*60)]\n",
    "resd = {}\n",
    "\n",
    "# Calculate structure statistics for different assumption tuples.\n",
    "for (ind, pov) in tups:\n",
    "    ss = amb.AmBIENCeDataset(\n",
    "        interior_node_depth=ind,\n",
    "        period_of_variations=pov,\n",
    "    ).calculate_structure_statistics()\n",
    "    resd[(ind, pov)] = ss"
   ]
  },
  {
   "cell_type": "code",
   "execution_count": null,
   "metadata": {},
   "outputs": [],
   "source": [
    "### Check internal U-value progression\n",
    "\n",
    "cols = [\n",
    "    \"internal_U_value_to_structure_W_m2K\"\n",
    "]\n",
    "df = resd[tups[0]][cols]\n",
    "for t in tups[1:len(tups)]:\n",
    "    df = df.join(resd[t][cols], rsuffix=(\" \" + str(t)))\n",
    "df\n"
   ]
  },
  {
   "cell_type": "markdown",
   "metadata": {},
   "source": [
    "The internal U-value should be seen to decrease as the interior node depth is increased.\n",
    "Furthermore, the interior U-value should be the same regardless of country,\n",
    "period, and building type when interior node depth = 0.0, as the only\n",
    "thermal resistance remaining is the assumed interior surface resistance\n",
    "*(which is independent of the building properties)*.\n",
    "\n",
    "Let's check external U-values next."
   ]
  },
  {
   "cell_type": "code",
   "execution_count": null,
   "metadata": {},
   "outputs": [],
   "source": [
    "### Check external U-value progression\n",
    "\n",
    "cols = [\n",
    "    \"external_U_value_to_ambient_air_W_m2K\",\n",
    "    \"external_U_value_to_ground_W_m2K\"\n",
    "]\n",
    "df = resd[tups[0]][cols]\n",
    "for t in tups[1:len(tups)]:\n",
    "    df = df.join(resd[t][cols], rsuffix=(\" \" + str(t)))\n",
    "df = df.reindex(sorted(df.columns), axis = 1)\n",
    "df"
   ]
  },
  {
   "cell_type": "markdown",
   "metadata": {},
   "source": [
    "The external U-values should be seen to increase as the interior node depth increases.\n",
    "The effect on the ground U-values is noticeably smaller,\n",
    "as the ground resistance accounts for a significant portion of the total resistance.\n",
    "\n",
    "Using large interior node depths seems a bit problematinc with AmBIENCe data,\n",
    "as it would seem that some exterior wall structures barely contain any thermal insulation.\n",
    "With 1.0 interior node depth, the exterior U-values can be seen to skyrocket up to 25,\n",
    "which is not really ideal.\n",
    "\n",
    "Next, let's look at the total U-values."
   ]
  },
  {
   "cell_type": "code",
   "execution_count": null,
   "metadata": {},
   "outputs": [],
   "source": [
    "### Check total U-value progression\n",
    "\n",
    "cols = [\n",
    "    \"total_U_value_W_m2K\",\n",
    "]\n",
    "df = resd[tups[0]][cols]\n",
    "for t in tups[1:len(tups)]:\n",
    "    df = df.join(resd[t][cols], rsuffix=(\" \" + str(t)))\n",
    "df = df.reindex(sorted(df.columns), axis = 1)\n",
    "df"
   ]
  },
  {
   "cell_type": "markdown",
   "metadata": {},
   "source": [
    "The total U-values should remain the same regardless of the assumed interior node depth.\n",
    "This is because we're only tweaking the relative thermal resistances\n",
    "to and from the temperature node inside the structures, but not the total thermal\n",
    "resistance through the structure.\n",
    "\n",
    "Next, let's check the effective thermal resistance."
   ]
  },
  {
   "cell_type": "code",
   "execution_count": null,
   "metadata": {},
   "outputs": [],
   "source": [
    "### Check total U-value progression\n",
    "\n",
    "cols = [\n",
    "    \"effective_thermal_mass_J_m2K\",\n",
    "]\n",
    "df = resd[tups[0]][cols]\n",
    "for t in tups[1:len(tups)]:\n",
    "    df = df.join(resd[t][cols], rsuffix=(\" \" + str(t)))\n",
    "df = df.reindex(sorted(df.columns), axis = 1)\n",
    "df"
   ]
  },
  {
   "cell_type": "markdown",
   "metadata": {},
   "source": [
    "Which should increase as the period of variations is increased.\n",
    "Personally, I'm not sure if the period of variations has a lot of meaning for this\n",
    "type of building modelling, but it was a \"convenient\" parameter to tweak the thermal mass\n",
    "of the structures.\n",
    "\n",
    "\n",
    "### Internal structure total U-values\n",
    "\n",
    "In `ArchetypeBuildingModel.jl`, internal structures like `partition_wall` and `separating_floor` use the internal U-value for one surface, and the external U-value\n",
    "for the other surface. Thus, the total U-value between the internal structure and the\n",
    "indoor air is the sum of the two separate U-values. Conveniently,\n",
    "this sum is dependent on the interior node depth assumption:"
   ]
  },
  {
   "cell_type": "code",
   "execution_count": null,
   "metadata": {},
   "outputs": [],
   "source": [
    "### Check internal structure total U-value progression\n",
    "\n",
    "cols = [\n",
    "    \"internal_U_value_to_structure_W_m2K\",\n",
    "    \"external_U_value_to_ambient_air_W_m2K\"\n",
    "]\n",
    "df = resd[tups[0]][cols]\n",
    "df[\"total_interior_U_value\"] = df.sum(axis=1)\n",
    "df = df[[\"total_interior_U_value\"]]\n",
    "for t in tups[1:len(tups)]:\n",
    "    temp = resd[t][cols]\n",
    "    temp[\"total_interior_U_value\"] = temp.sum(axis=1)\n",
    "    df = df.join(temp[[\"total_interior_U_value\",]], rsuffix=(\" \" + str(t)))\n",
    "df"
   ]
  },
  {
   "cell_type": "markdown",
   "metadata": {},
   "source": [
    "Where we can see that the `partition_wall` and `separating_floor` total interior U-value\n",
    "does indeed change a bit along with the assumed interior node depth.\n",
    "For internal structures, the insulation layer is neglected,\n",
    "as internal structures aren't typically thermally insulated.\n",
    "The interior node depth is interpreted as the depth up until the middle of the structure,\n",
    "so the minimum total interior U-value should be reached with interior node depth of 1.0.\n",
    "\n",
    "Note that the values for the external structure types don't really mean anything."
   ]
  }
 ],
 "metadata": {
  "kernelspec": {
   "display_name": "atlitetoolbox",
   "language": "python",
   "name": "python3"
  },
  "language_info": {
   "codemirror_mode": {
    "name": "ipython",
    "version": 3
   },
   "file_extension": ".py",
   "mimetype": "text/x-python",
   "name": "python",
   "nbconvert_exporter": "python",
   "pygments_lexer": "ipython3",
   "version": "3.11.6"
  },
  "orig_nbformat": 4
 },
 "nbformat": 4,
 "nbformat_minor": 2
}
