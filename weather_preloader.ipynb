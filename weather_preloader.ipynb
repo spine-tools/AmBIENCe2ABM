{
 "cells": [
  {
   "cell_type": "markdown",
   "metadata": {},
   "source": [
    "# Weather preloader\n",
    "\n",
    "Seems like current versions of Spine Toolbox and atlite have some issues when downloading full-year weather data on the fly, so I'll need to see if I can avoid these issues by preparing the necessary cutouts ahead of time."
   ]
  },
  {
   "cell_type": "code",
   "execution_count": null,
   "metadata": {},
   "outputs": [],
   "source": [
    "## Import necessary packages\n",
    "\n",
    "import archetypebuildingweather as abw\n",
    "import pandas as pd"
   ]
  },
  {
   "cell_type": "code",
   "execution_count": null,
   "metadata": {},
   "outputs": [],
   "source": [
    "## Define weather preloader settings\n",
    "\n",
    "countries = None # [\"NL\", \"FR\"]\n",
    "weather_start = \"2008-01-01\"\n",
    "weather_end = \"2008-01-01\"\n",
    "timeslice = slice(weather_start, weather_end)\n",
    "dask_kwargs = None #dict(scheduler=\"synchronous\")\n",
    "tmpdir = None #\"data\"\n",
    "raster_path = \"../AmBIENCe2ABM/data_sources/gfa_res_curr_density/data/gfa_res_curr_density_epsg4326.tif\"\n",
    "\n",
    "\n",
    "## Fetch desired shapefiles from mappings.\n",
    "\n",
    "df_shapefiles = pd.read_csv(\"data_assumptions/shapefile_mappings.csv\").set_index(\"country\")\n",
    "if countries is not None:\n",
    "    df_shapefiles = df_shapefiles.loc[countries]\n",
    "df_shapefiles"
   ]
  },
  {
   "cell_type": "code",
   "execution_count": null,
   "metadata": {},
   "outputs": [],
   "source": [
    "## Preload weather data\n",
    "\n",
    "cutouts = []\n",
    "countries = df_shapefiles.index\n",
    "for c in countries:\n",
    "    print(c)\n",
    "    shp = abw.Shapefile(df_shapefiles.loc[c][\"shapefile_path\"])\n",
    "    cutout = abw.prepare_cutout(shp, weather_start, weather_end, dask_kwargs=dask_kwargs, tmpdir=tmpdir)\n",
    "    cutouts.append(cutout)\n",
    "    weights = {c: 1.0}\n",
    "    raster, layout = abw.prepare_layout(shp, cutout, weights, raster_path)\n",
    "    abw.plot_layout(shp, layout, dpi=50, title=\"_\".join([c, weather_start, weather_end]))"
   ]
  },
  {
   "cell_type": "code",
   "execution_count": null,
   "metadata": {},
   "outputs": [],
   "source": []
  }
 ],
 "metadata": {
  "kernelspec": {
   "display_name": "atlitetoolbox",
   "language": "python",
   "name": "python3"
  },
  "language_info": {
   "codemirror_mode": {
    "name": "ipython",
    "version": 3
   },
   "file_extension": ".py",
   "mimetype": "text/x-python",
   "name": "python",
   "nbconvert_exporter": "python",
   "pygments_lexer": "ipython3",
   "version": "3.12.7"
  }
 },
 "nbformat": 4,
 "nbformat_minor": 2
}
