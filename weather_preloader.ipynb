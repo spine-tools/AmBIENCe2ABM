{
 "cells": [
  {
   "cell_type": "markdown",
   "metadata": {},
   "source": [
    "# Weather preloader\n",
    "\n",
    "Seems like current versions of Spine Toolbox and atlite have some issues when downloading full-year weather data on the fly, so I'll need to see if I can avoid these issues by preparing the necessary cutouts ahead of time."
   ]
  },
  {
   "cell_type": "code",
   "execution_count": null,
   "metadata": {},
   "outputs": [],
   "source": [
    "## Import necessary packages\n",
    "\n",
    "import archetypebuildingweather as abw\n",
    "import pandas as pd"
   ]
  },
  {
   "cell_type": "code",
   "execution_count": null,
   "metadata": {},
   "outputs": [],
   "source": [
    "## Define weather preloader settings\n",
    "\n",
    "countries = [\"NL\", \"FR\"]\n",
    "weather_start = \"2010-01-01\"\n",
    "weather_end = \"2010-01-03\"\n",
    "timeslice=slice(weather_start, weather_end)\n",
    "\n",
    "\n",
    "## Fetch desired shapefiles from mappings.\n",
    "\n",
    "df_shapefiles = pd.read_csv(\"data_assumptions/shapefile_mappings.csv\").set_index(\"country\").loc[countries]\n",
    "df_shapefiles"
   ]
  },
  {
   "cell_type": "code",
   "execution_count": null,
   "metadata": {},
   "outputs": [],
   "source": [
    "## Preload weather data\n",
    "\n",
    "cutouts = []\n",
    "for c in countries:\n",
    "    shp = abw.Shapefile(df_shapefiles.loc[c][\"shapefile_path\"])\n",
    "    abw.plot_layout(shp, shp.raster, dpi=90, title=\"_\".join([c, weather_start, weather_end]))\n",
    "    cutouts.append(abw.prepare_cutout(shp, weather_start, weather_end))\n"
   ]
  },
  {
   "cell_type": "code",
   "execution_count": null,
   "metadata": {},
   "outputs": [],
   "source": []
  }
 ],
 "metadata": {
  "kernelspec": {
   "display_name": "atlitetoolbox",
   "language": "python",
   "name": "python3"
  },
  "language_info": {
   "codemirror_mode": {
    "name": "ipython",
    "version": 3
   },
   "file_extension": ".py",
   "mimetype": "text/x-python",
   "name": "python",
   "nbconvert_exporter": "python",
   "pygments_lexer": "ipython3",
   "version": "3.12.7"
  }
 },
 "nbformat": 4,
 "nbformat_minor": 2
}
