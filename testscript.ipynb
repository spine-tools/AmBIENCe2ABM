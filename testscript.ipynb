{
 "cells": [
  {
   "cell_type": "markdown",
   "metadata": {},
   "source": [
    "# testscript.ipynb\n",
    "\n",
    "A Jupyter notebook for testing and development of the AmBIENCe2ABM module."
   ]
  },
  {
   "cell_type": "code",
   "execution_count": null,
   "metadata": {},
   "outputs": [],
   "source": [
    "## Import modules\n",
    "\n",
    "import pandas as pd\n",
    "import numpy as np\n",
    "from itertools import product\n",
    "import ambience2abm as amb"
   ]
  },
  {
   "cell_type": "code",
   "execution_count": null,
   "metadata": {},
   "outputs": [],
   "source": [
    "## Read the raw data and assumptions.\n",
    "\n",
    "ambience = amb.AmBIENCeDataset(\n",
    "    interior_node_depth=0.1,\n",
    "    period_of_variations=2225140,\n",
    ")\n",
    "ambience.data"
   ]
  },
  {
   "cell_type": "code",
   "execution_count": null,
   "metadata": {},
   "outputs": [],
   "source": [
    "## Create unique building periods\n",
    "\n",
    "building_periods = ambience.building_periods()\n",
    "building_periods"
   ]
  },
  {
   "cell_type": "code",
   "execution_count": null,
   "metadata": {},
   "outputs": [],
   "source": [
    "## Check the building type to stock mappings.\n",
    "\n",
    "ambience.building_type_mappings"
   ]
  },
  {
   "cell_type": "code",
   "execution_count": null,
   "metadata": {},
   "outputs": [],
   "source": [
    "## Check the building stock statistics\n",
    "\n",
    "ambience.building_stock_statistics"
   ]
  },
  {
   "cell_type": "code",
   "execution_count": null,
   "metadata": {},
   "outputs": [],
   "source": [
    "## Check structure type assumptions\n",
    "\n",
    "ambience.structure_types"
   ]
  },
  {
   "cell_type": "code",
   "execution_count": null,
   "metadata": {},
   "outputs": [],
   "source": [
    "## Aggregate building stock statistics further for structure processing.\n",
    "\n",
    "agg_bss = ambience.building_stock_statistics.groupby([\"building_type\",\"building_period\",\"location_id\"]).agg({\"number_of_buildings\": \"sum\", \"average_gross_floor_area_m2_per_building\": \"mean\"})\n",
    "agg_bss"
   ]
  },
  {
   "cell_type": "code",
   "execution_count": null,
   "metadata": {},
   "outputs": [],
   "source": [
    "## Structure statistics\n",
    "\n",
    "ss = pd.DataFrame(\n",
    "    [\n",
    "        [\n",
    "            r[\"REFERENCE BUILDING USE CODE\"],\n",
    "            r[\"building_period\"],\n",
    "            r[\"REFERENCE BUILDING COUNTRY CODE\"],\n",
    "            st,\n",
    "            r[\" \".join(\n",
    "                [\n",
    "                    \"REFERENCE BUILDING\",\n",
    "                    ambience.structure_types.loc[st,\"mapping\"],\n",
    "                    \"U-VALUE (W/m2/K)\"\n",
    "                ]\n",
    "            )],\n",
    "            ambience.calculate_weighted_effective_thermal_mass(\n",
    "                r, st, agg_bss,\n",
    "            )\n",
    "        ]\n",
    "        for ((i,r),st) in product(\n",
    "            ambience.data.iterrows(),\n",
    "            ambience.structure_types.index\n",
    "        )\n",
    "    ],\n",
    "    columns=[\n",
    "        \"building_type\",\n",
    "        \"building_period\",\n",
    "        \"location_id\",\n",
    "        \"structure_type\",\n",
    "        \"design_U_value_m2K\",\n",
    "        \"effective_thermal_mass_J_m2K\",\n",
    "        #\"external_U_value_to_ambient_air_W_m2K\",\n",
    "        #\"internal_U_value_to_structure_W_m2K\",\n",
    "        #\"linear_thermal_bridges_W_m2K\",\n",
    "        #\"total_U_value_W_m2K\",\n",
    "    ]\n",
    ").groupby([\n",
    "    \"building_type\",\n",
    "    \"building_period\",\n",
    "    \"location_id\",\n",
    "    \"structure_type\"\n",
    "]).agg({\n",
    "    \"design_U_value_m2K\": \"mean\",\n",
    "    \"effective_thermal_mass_J_m2K\": \"sum\"\n",
    "})\n",
    "ss"
   ]
  },
  {
   "cell_type": "code",
   "execution_count": null,
   "metadata": {},
   "outputs": [],
   "source": []
  }
 ],
 "metadata": {
  "kernelspec": {
   "display_name": "atlitetoolbox",
   "language": "python",
   "name": "python3"
  },
  "language_info": {
   "codemirror_mode": {
    "name": "ipython",
    "version": 3
   },
   "file_extension": ".py",
   "mimetype": "text/x-python",
   "name": "python",
   "nbconvert_exporter": "python",
   "pygments_lexer": "ipython3",
   "version": "3.11.4"
  },
  "orig_nbformat": 4
 },
 "nbformat": 4,
 "nbformat_minor": 2
}
