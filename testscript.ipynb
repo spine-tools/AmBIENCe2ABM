{
 "cells": [
  {
   "cell_type": "markdown",
   "metadata": {},
   "source": [
    "# testscript.ipynb\n",
    "\n",
    "A Jupyter notebook for testing and development of the AmBIENCe2ABM module.\n",
    "First, let's simply impor the module."
   ]
  },
  {
   "cell_type": "code",
   "execution_count": null,
   "metadata": {},
   "outputs": [],
   "source": [
    "import ambience2abm as amb"
   ]
  },
  {
   "cell_type": "markdown",
   "metadata": {},
   "source": [
    "## Read the raw data and assumptions\n",
    "\n",
    "The raw data and assumptions are handled using the `AmBIENCeDataset` object,\n",
    "with the constructor requiring values for the assumed `interior_node_depth` and `period_of_variations` *(explained in the docstring)*.\n",
    "\n",
    "The following cells demonstrate/test functionality of the `AmBIENCeDataset`."
   ]
  },
  {
   "cell_type": "code",
   "execution_count": null,
   "metadata": {},
   "outputs": [],
   "source": [
    "### Read the raw data and assumptions.\n",
    "\n",
    "ambience = amb.AmBIENCeDataset(\n",
    "    interior_node_depth=0.1,\n",
    "    period_of_variations=2225140,\n",
    ")\n",
    "ambience.data"
   ]
  },
  {
   "cell_type": "code",
   "execution_count": null,
   "metadata": {},
   "outputs": [],
   "source": [
    "### Create unique building periods\n",
    "\n",
    "building_periods = ambience.building_periods()\n",
    "building_periods"
   ]
  },
  {
   "cell_type": "code",
   "execution_count": null,
   "metadata": {},
   "outputs": [],
   "source": [
    "### Check the building type to stock mappings.\n",
    "\n",
    "ambience.building_type_mappings"
   ]
  },
  {
   "cell_type": "code",
   "execution_count": null,
   "metadata": {},
   "outputs": [],
   "source": [
    "### Check the building stock statistics\n",
    "\n",
    "ambience.building_stock_statistics"
   ]
  },
  {
   "cell_type": "code",
   "execution_count": null,
   "metadata": {},
   "outputs": [],
   "source": [
    "### Check structure type assumptions\n",
    "\n",
    "ambience.structure_types"
   ]
  },
  {
   "cell_type": "code",
   "execution_count": null,
   "metadata": {},
   "outputs": [],
   "source": [
    "### Calculate the structure statistics\n",
    "\n",
    "ambience.calculate_structure_statistics()"
   ]
  },
  {
   "cell_type": "code",
   "execution_count": null,
   "metadata": {},
   "outputs": [],
   "source": [
    "### Check fenestration assumptions.\n",
    "\n",
    "ambience.fenestration"
   ]
  },
  {
   "cell_type": "code",
   "execution_count": null,
   "metadata": {},
   "outputs": [],
   "source": [
    "### Check ventilation assumptions.\n",
    "\n",
    "ambience.ventilation"
   ]
  },
  {
   "cell_type": "code",
   "execution_count": null,
   "metadata": {},
   "outputs": [],
   "source": [
    "### Calculate ventilation and fenestration statistics\n",
    "\n",
    "ambience.calculate_ventilation_and_fenestration_statistics()"
   ]
  },
  {
   "cell_type": "markdown",
   "metadata": {},
   "source": [
    "## Process the full ArchetypeBuildingModel.jl dataset\n",
    "\n",
    "The `ABMDataset` object contains the final processed data compatible with `ArchetypeBuildingModel.jl`,\n",
    "as well as functions for exporting the Data Package containing said processed data.\n",
    "The `ABMDataset` objects are constructed based on the raw `AmBIENCeDataset` object.\n"
   ]
  },
  {
   "cell_type": "code",
   "execution_count": null,
   "metadata": {},
   "outputs": [],
   "source": [
    "### Process the full ABM Dataset\n",
    "\n",
    "abmdata = amb.ABMDataset(ambience)\n",
    "abmdata"
   ]
  },
  {
   "cell_type": "code",
   "execution_count": null,
   "metadata": {},
   "outputs": [],
   "source": [
    "### Inspect building periods\n",
    "\n",
    "abmdata.building_period"
   ]
  },
  {
   "cell_type": "code",
   "execution_count": null,
   "metadata": {},
   "outputs": [],
   "source": [
    "### Inspect building stocks\n",
    "\n",
    "abmdata.building_stock"
   ]
  },
  {
   "cell_type": "code",
   "execution_count": null,
   "metadata": {},
   "outputs": [],
   "source": [
    "### Inspect structure types\n",
    "\n",
    "abmdata.structure_type"
   ]
  },
  {
   "cell_type": "code",
   "execution_count": null,
   "metadata": {},
   "outputs": [],
   "source": [
    "### Inspect building stock statistics\n",
    "\n",
    "abmdata.building_stock_statistics"
   ]
  },
  {
   "cell_type": "code",
   "execution_count": null,
   "metadata": {},
   "outputs": [],
   "source": [
    "### Inspect structure statistics\n",
    "\n",
    "abmdata.structure_statistics"
   ]
  },
  {
   "cell_type": "code",
   "execution_count": null,
   "metadata": {},
   "outputs": [],
   "source": [
    "### Inspect ventilation and fenestration statistics\n",
    "\n",
    "abmdata.ventilation_and_fenestration_statistics"
   ]
  },
  {
   "cell_type": "code",
   "execution_count": null,
   "metadata": {},
   "outputs": [],
   "source": [
    "### Try exporting to csvs\n",
    "\n",
    "abmdata.export_csvs()"
   ]
  },
  {
   "cell_type": "code",
   "execution_count": null,
   "metadata": {},
   "outputs": [],
   "source": [
    "### Try creating the datapackage\n",
    "\n",
    "pkg = abmdata.create_datapackage()\n",
    "pkg"
   ]
  },
  {
   "cell_type": "markdown",
   "metadata": {},
   "source": [
    "## Check processed data against the original.\n",
    "\n",
    "Let's do a few comparisons to try and see that the data processing is performing as intended.\n",
    "For starters, let's make sure that aggregating over the `BUILDING MATERIAL COMBINATION CODE`\n",
    "and disaggregating over the `HEATING SYSTEM PREVALENCY ON BUILDING STOCK` haven't distorted the\n",
    "total heated floor area."
   ]
  },
  {
   "cell_type": "code",
   "execution_count": null,
   "metadata": {},
   "outputs": [],
   "source": [
    "### Calculate equally aggregated numbers of buildings both from the original data and the processed output.\n",
    "\n",
    "# Declare cols to aggregate over\n",
    "cols = [\n",
    "    \"building_type\",\n",
    "    \"building_period\",\n",
    "    \"location_id\"\n",
    "]\n",
    "\n",
    "# Renaming and aggregation of original data.\n",
    "ambience_total_numbers = ambience.data.rename(\n",
    "    columns={\n",
    "        \"REFERENCE BUILDING USE CODE\": \"building_type\",\n",
    "        \"REFERENCE BUILDING COUNTRY CODE\": \"location_id\",\n",
    "        \"NUMBER OF REFERENCE BUILDINGS IN THE BUILDING STOCK SEGMENT\": \"number_of_buildings\"\n",
    "    }\n",
    ").groupby(cols).agg({\"number_of_buildings\": \"sum\"})\n",
    "\n",
    "# Aggregation of processed data.\n",
    "abm_total_numbers = abmdata.building_stock_statistics.reset_index().groupby(cols).agg({\"number_of_buildings\": \"sum\"})\n",
    "\n",
    "# Check the differences (neglecting near-floating-point level)\n",
    "num_diff = ambience_total_numbers - abm_total_numbers\n",
    "num_diff[num_diff[\"number_of_buildings\"].abs() > 1e-6]"
   ]
  },
  {
   "cell_type": "markdown",
   "metadata": {},
   "source": [
    "Which should be empty.\n",
    "There was a bug in the raw heatsys data for `DE-OTH-2011-2021`\n",
    "which required normalizing the heating system prevalencies."
   ]
  },
  {
   "cell_type": "code",
   "execution_count": null,
   "metadata": {},
   "outputs": [],
   "source": []
  }
 ],
 "metadata": {
  "kernelspec": {
   "display_name": "atlitetoolbox",
   "language": "python",
   "name": "python3"
  },
  "language_info": {
   "codemirror_mode": {
    "name": "ipython",
    "version": 3
   },
   "file_extension": ".py",
   "mimetype": "text/x-python",
   "name": "python",
   "nbconvert_exporter": "python",
   "pygments_lexer": "ipython3",
   "version": "3.11.4"
  },
  "orig_nbformat": 4
 },
 "nbformat": 4,
 "nbformat_minor": 2
}
