{
 "cells": [
  {
   "cell_type": "markdown",
   "metadata": {},
   "source": [
    "# definitions_testscript.ipynb\n",
    "\n",
    "A script for testing and development of automatic generation of `ArchetypeBuildingModel.jl` definitions from AmBIENCe data."
   ]
  },
  {
   "cell_type": "code",
   "execution_count": null,
   "metadata": {},
   "outputs": [],
   "source": [
    "import ambience2abm as amb\n",
    "\n",
    "### Read the raw data and assumptions.\n",
    "\n",
    "ambience = amb.AmBIENCeDataset(\n",
    "    interior_node_depth=0.1,\n",
    "    period_of_variations=1209600\n",
    ")"
   ]
  },
  {
   "cell_type": "markdown",
   "metadata": {},
   "source": [
    "## First, let's quickly check the building fabrics and building nodes.\n",
    "\n",
    "These are assumptions corresponding to the `ZonWallInt_B` RC-model in the AmBIENCe data\n",
    "as closely as possible to define for `ArchetypeBuildingModel.jl`."
   ]
  },
  {
   "cell_type": "code",
   "execution_count": null,
   "metadata": {},
   "outputs": [],
   "source": [
    "### Test definitions processing\n",
    "\n",
    "defs = amb.ABMDefinitions(\n",
    "    ambience,\n",
    "    aggregate_building_type=False, # First no aggregation\n",
    "    aggregate_building_period=False\n",
    ")\n",
    "defs.data"
   ]
  },
  {
   "cell_type": "code",
   "execution_count": null,
   "metadata": {},
   "outputs": [],
   "source": [
    "### Check given parameters\n",
    "\n",
    "[\n",
    "    defs.room_height_m,\n",
    "    defs.weather_start,\n",
    "    defs.weather_end,\n",
    "    defs.partition_wall_length_ratio_to_external_walls_m_m,\n",
    "    defs.window_area_thermal_bridge_surcharge_W_m2K\n",
    "]"
   ]
  },
  {
   "cell_type": "code",
   "execution_count": null,
   "metadata": {},
   "outputs": [],
   "source": [
    "### Check building fabrics\n",
    "\n",
    "defs.building_fabrics"
   ]
  },
  {
   "cell_type": "code",
   "execution_count": null,
   "metadata": {},
   "outputs": [],
   "source": [
    "### Check building nodes and structure types\n",
    "\n",
    "defs.building_node__structure_type"
   ]
  },
  {
   "cell_type": "markdown",
   "metadata": {},
   "source": [
    "Seems ok.\n",
    "\n",
    "## Next, let's look at the archetype building definitions.\n",
    "\n",
    "Each row of the raw AmBIENCe data corresponds to an archetype building model in\n",
    "`ArchetypeBuildingModel.jl`, so let's examine the properties a bit."
   ]
  },
  {
   "cell_type": "code",
   "execution_count": null,
   "metadata": {},
   "outputs": [],
   "source": [
    "### Check building archetype params\n",
    "\n",
    "archetype_data = defs.building_archetype()\n",
    "archetype_data"
   ]
  },
  {
   "cell_type": "code",
   "execution_count": null,
   "metadata": {},
   "outputs": [],
   "source": [
    "### Check if building frame depth values have `nan` due to complex sqrt\n",
    "\n",
    "archetype_data[archetype_data[\"building_frame_depth_m\"].isna()]\n",
    "\n",
    "# Which should return an empty dataframe"
   ]
  },
  {
   "cell_type": "code",
   "execution_count": null,
   "metadata": {},
   "outputs": [],
   "source": [
    "### Check mean values\n",
    "\n",
    "cols = [\n",
    "    \"building_frame_depth_m\",\n",
    "    \"number_of_storeys\",\n",
    "    \"room_height_m\",\n",
    "    \"window_area_to_external_wall_ratio_m2_m2\",\n",
    "    \"reference_floor_area_m2\",\n",
    "    \"reference_wall_area_m2\",\n",
    "    \"reference_window_area_m2\",\n",
    "    \"reference_roof_area_m2\",\n",
    "]\n",
    "\n",
    "archetype_data[cols].mean()"
   ]
  },
  {
   "cell_type": "code",
   "execution_count": null,
   "metadata": {},
   "outputs": [],
   "source": [
    "### Check median values\n",
    "\n",
    "archetype_data[cols].median()"
   ]
  },
  {
   "cell_type": "markdown",
   "metadata": {},
   "source": [
    "On average, the parameters seem reasonable enough,\n",
    "although average `building_frame_depth_m` less than 8-6 metres seems a bit low-ish from a Finnish point-of-view."
   ]
  },
  {
   "cell_type": "code",
   "execution_count": null,
   "metadata": {},
   "outputs": [],
   "source": [
    "### Check maximum values\n",
    "\n",
    "archetype_data[cols].max()"
   ]
  },
  {
   "cell_type": "markdown",
   "metadata": {},
   "source": [
    "The maximum values don't seem entirely unreasonable either,\n",
    "with the possible exception of a 71 m maximum building frame depth.\n",
    "Fortunately, it would seem that excessive building frame depths mostly occur\n",
    "in non-residential buildings, and large warehouses could reasonably have shapes like that."
   ]
  },
  {
   "cell_type": "code",
   "execution_count": null,
   "metadata": {},
   "outputs": [],
   "source": [
    "archetype_data[archetype_data[\"building_frame_depth_m\"] >= 30]"
   ]
  },
  {
   "cell_type": "code",
   "execution_count": null,
   "metadata": {},
   "outputs": [],
   "source": [
    "### Check minimum values\n",
    "\n",
    "archetype_data[cols].min()"
   ]
  },
  {
   "cell_type": "markdown",
   "metadata": {},
   "source": [
    "However, the minimum values get pretty unrealistic.\n",
    "Cyprus has some clearly unreasonable data, with less than 1 m2 of floor area per storey. There are also several buildings with ground floor areas less than 10 m2,\n",
    "which I also find quite suspicious."
   ]
  },
  {
   "cell_type": "code",
   "execution_count": null,
   "metadata": {},
   "outputs": [],
   "source": [
    "ambience.data[ambience.data[\"REFERENCE BUILDING GROUND FLOOR AREA (m2)\"] <= 10.0]"
   ]
  },
  {
   "cell_type": "markdown",
   "metadata": {},
   "source": [
    "## Forming `building_scope`\n",
    "\n",
    "The `building_scope` objects define how the building stock statistics are aggregated\n",
    "into the properties of the desired archetype buildings.\n",
    "For replicating the reference buildings in the AmBIENCe data as close ly as possible,\n",
    "the heat sources are re-aggregated, but the material combinations neglected."
   ]
  },
  {
   "cell_type": "code",
   "execution_count": null,
   "metadata": {},
   "outputs": [],
   "source": [
    "### Check building scopes\n",
    "\n",
    "defs.building_scope()"
   ]
  },
  {
   "cell_type": "code",
   "execution_count": null,
   "metadata": {},
   "outputs": [],
   "source": [
    "### Check building scope to building type mapping\n",
    "\n",
    "defs.building_scope__building_type()"
   ]
  },
  {
   "cell_type": "code",
   "execution_count": null,
   "metadata": {},
   "outputs": [],
   "source": [
    "### Check building scope to heat source mapping\n",
    "\n",
    "defs.building_scope__heat_source()"
   ]
  },
  {
   "cell_type": "code",
   "execution_count": null,
   "metadata": {},
   "outputs": [],
   "source": [
    "### Check building scope to location ID mapping\n",
    "\n",
    "defs.building_scope__location_id()"
   ]
  },
  {
   "cell_type": "markdown",
   "metadata": {},
   "source": [
    "## Test export and data packaging\n",
    "\n",
    "Similar to the building stock data, the definitions can be packaged to make them\n",
    "easier to deal with in Spine Toolbox.\n",
    "This functionality is tested below.*"
   ]
  },
  {
   "cell_type": "code",
   "execution_count": null,
   "metadata": {},
   "outputs": [],
   "source": [
    "### Test data package export\n",
    "\n",
    "defs.export_csvs()\n",
    "pkg = defs.create_datapackage()\n",
    "pkg"
   ]
  },
  {
   "cell_type": "markdown",
   "metadata": {},
   "source": [
    "## Test definition aggregation\n",
    "\n",
    "The above definition tests were carried out without any automatic aggregation.\n",
    "However, in practise, this dataset shouldn't be used without any aggregation\n",
    "due to the considerable uncertainties and oddities in the raw inputs.\n",
    "\n",
    "For convenience, aggregation over construction periods and building types is provided.\n",
    "Let's test that it actually works as intended."
   ]
  },
  {
   "cell_type": "code",
   "execution_count": null,
   "metadata": {},
   "outputs": [],
   "source": [
    "### Check aggregated definitions processing\n",
    "\n",
    "agg_defs = amb.ABMDefinitions(\n",
    "    ambience,\n",
    "    aggregate_building_type=True,\n",
    "    aggregate_building_period=True,\n",
    ")\n",
    "agg_defs.data"
   ]
  },
  {
   "cell_type": "code",
   "execution_count": null,
   "metadata": {},
   "outputs": [],
   "source": [
    "### Check aggregated building archetypes\n",
    "\n",
    "agg_archetype_data = agg_defs.building_archetype()\n",
    "agg_archetype_data"
   ]
  },
  {
   "cell_type": "code",
   "execution_count": null,
   "metadata": {},
   "outputs": [],
   "source": [
    "### First off, there should be less aggregated archetypes than non-aggregated ones\n",
    "\n",
    "archetype_data.size >= agg_archetype_data.size"
   ]
  },
  {
   "cell_type": "code",
   "execution_count": null,
   "metadata": {},
   "outputs": [],
   "source": [
    "### Let's check bounds for archetype parameters\n",
    "\n",
    "cols = [\n",
    "    \"building_frame_depth_m\",\n",
    "    \"number_of_storeys\",\n",
    "    \"room_height_m\",\n",
    "    \"window_area_to_external_wall_ratio_m2_m2\",\n",
    "    \"partition_wall_length_ratio_to_external_walls_m_m\",\n",
    "    \"window_area_thermal_bridge_surcharge_W_m2K\",\n",
    "    \"reference_floor_area_m2\",\n",
    "    \"reference_wall_area_m2\",\n",
    "    \"reference_window_area_m2\",\n",
    "    \"reference_roof_area_m2\"\n",
    "]\n",
    "archetype_data[\"location_id\"] = archetype_data[\"building_scope\"].str[:2]\n",
    "agg_archetype_data[\"location_id\"] = agg_archetype_data[\"building_scope\"].str[:2]\n",
    "archetype_bounds = archetype_data.groupby(\"location_id\").agg(\n",
    "    {col: [\"min\", \"max\"] for col in cols}\n",
    ")\n",
    "archetype_bounds\n"
   ]
  },
  {
   "cell_type": "code",
   "execution_count": null,
   "metadata": {},
   "outputs": [],
   "source": [
    "### Compare these to aggregated archetype building bounds\n",
    "\n",
    "agg_archetype_bounds = agg_archetype_data.groupby(\"location_id\").agg(\n",
    "    {col: [\"min\", \"max\"] for col in cols}\n",
    ")\n",
    "agg_archetype_bounds"
   ]
  },
  {
   "cell_type": "code",
   "execution_count": null,
   "metadata": {},
   "outputs": [],
   "source": [
    "### The aggregated bounds should be within the non-aggregated bounds.\n",
    "\n",
    "all(\n",
    "    [\n",
    "        all(archetype_bounds[:][\"min\"] <= agg_archetype_bounds[:][\"min\"]),\n",
    "        all(archetype_bounds[:][\"max\"] >= agg_archetype_bounds[:][\"max\"])\n",
    "    ]\n",
    ")"
   ]
  },
  {
   "cell_type": "markdown",
   "metadata": {},
   "source": [
    "Aggregation seems to work as intended.\n",
    "Some of the most insane archetype parameters get tempered a bit by the aggregation\n",
    "as a bonus."
   ]
  },
  {
   "cell_type": "code",
   "execution_count": null,
   "metadata": {},
   "outputs": [],
   "source": []
  }
 ],
 "metadata": {
  "kernelspec": {
   "display_name": "atlitetoolbox",
   "language": "python",
   "name": "python3"
  },
  "language_info": {
   "codemirror_mode": {
    "name": "ipython",
    "version": 3
   },
   "file_extension": ".py",
   "mimetype": "text/x-python",
   "name": "python",
   "nbconvert_exporter": "python",
   "pygments_lexer": "ipython3",
   "version": "3.12.7"
  },
  "orig_nbformat": 4
 },
 "nbformat": 4,
 "nbformat_minor": 2
}
