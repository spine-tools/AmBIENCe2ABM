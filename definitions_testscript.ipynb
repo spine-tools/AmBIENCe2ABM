{
 "cells": [
  {
   "cell_type": "markdown",
   "metadata": {},
   "source": [
    "# definitions_testscript.ipynb\n",
    "\n",
    "A script for testing and development of automatic generation of `ArchetypeBuildingModel.jl` definitions from AmBIENCe data."
   ]
  },
  {
   "cell_type": "code",
   "execution_count": null,
   "metadata": {},
   "outputs": [],
   "source": [
    "import ambience2abm as amb\n",
    "\n",
    "### Read the raw data and assumptions.\n",
    "\n",
    "ambience = amb.AmBIENCeDataset(\n",
    "    interior_node_depth=0.1,\n",
    "    period_of_variations=2225140,\n",
    ")\n",
    "ambience.data"
   ]
  },
  {
   "cell_type": "code",
   "execution_count": null,
   "metadata": {},
   "outputs": [],
   "source": [
    "### Fetch ArchetypeBuilding and Scope relevant data\n",
    "\n",
    "cols = {\n",
    "    \"REFERENCE BUILDING CODE\": \"building_archetype\",\n",
    "    \"REFERENCE BUILDING COUNTRY CODE\": \"location_id\",\n",
    "    \"REFERENCE BUILDING USE CODE\": \"building_type\",\n",
    "    \"building_period\": \"building_period\",\n",
    "    \"REFERENCE BUILDING CONSTRUCTION YEAR LOW\": \"scope_period_start_year\",\n",
    "    \"REFERENCE BUILDING CONSTRUCTION YEAR HIGH\": \"scope_period_end_year\",\n",
    "    \"NUMBER OF REFERENCE BUILDING STOREYS\": \"number_of_storeys\",\n",
    "    \"REFERENCE BUILDING GROUND FLOOR AREA (m2)\": \"floor_area_m2\",\n",
    "    \"REFERENCE BUILDING WALL AREA (m2)\": \"wall_area_m2\",\n",
    "    \"REFERENCE BUILDING WINDOW AREA (m2)\": \"window_area_m2\",\n",
    "    \"REFERENCE BUILDING ROOF AREA (m2)\": \"roof_area_m2\",\n",
    "}\n",
    "df = ambience.data.reset_index().rename(columns = cols)\n",
    "df = df[cols.values()].set_index(\"building_archetype\")\n",
    "df.insert(\n",
    "    0,\n",
    "    \"building_scope\",\n",
    "    [\n",
    "        \"-\".join(\n",
    "            [\n",
    "                r[\"location_id\"],\n",
    "                r[\"building_type\"],\n",
    "                r[\"building_period\"]\n",
    "            ]\n",
    "        ) for (i,r) in df.iterrows()\n",
    "    ]\n",
    ")\n",
    "\n",
    "df"
   ]
  },
  {
   "cell_type": "code",
   "execution_count": null,
   "metadata": {},
   "outputs": [],
   "source": []
  }
 ],
 "metadata": {
  "kernelspec": {
   "display_name": "atlitetoolbox",
   "language": "python",
   "name": "python3"
  },
  "language_info": {
   "codemirror_mode": {
    "name": "ipython",
    "version": 3
   },
   "file_extension": ".py",
   "mimetype": "text/x-python",
   "name": "python",
   "nbconvert_exporter": "python",
   "pygments_lexer": "ipython3",
   "version": "3.11.4"
  },
  "orig_nbformat": 4
 },
 "nbformat": 4,
 "nbformat_minor": 2
}
