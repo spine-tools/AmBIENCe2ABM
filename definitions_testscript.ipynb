{
 "cells": [
  {
   "cell_type": "markdown",
   "metadata": {},
   "source": [
    "# definitions_testscript.ipynb\n",
    "\n",
    "A script for testing and development of automatic generation of `ArchetypeBuildingModel.jl` definitions from AmBIENCe data."
   ]
  },
  {
   "cell_type": "code",
   "execution_count": null,
   "metadata": {},
   "outputs": [],
   "source": [
    "import ambience2abm as amb\n",
    "\n",
    "### Read the raw data and assumptions.\n",
    "\n",
    "ambience = amb.AmBIENCeDataset(\n",
    "    interior_node_depth=0.1,\n",
    "    period_of_variations=2225140,\n",
    ")"
   ]
  },
  {
   "cell_type": "markdown",
   "metadata": {},
   "source": [
    "## First, let's quickly check the building fabrics and building nodes.\n",
    "\n",
    "These are assumptions corresponding to the `ZonWallInt_B` RC-model in the AmBIENCe data\n",
    "as closely as possible to define for `ArchetypeBuildingModel.jl`."
   ]
  },
  {
   "cell_type": "code",
   "execution_count": null,
   "metadata": {},
   "outputs": [],
   "source": [
    "### Test definitions processing and check building fabrics\n",
    "\n",
    "defs = amb.ABMDefinitions(ambience)\n",
    "defs.building_fabrics"
   ]
  },
  {
   "cell_type": "code",
   "execution_count": null,
   "metadata": {},
   "outputs": [],
   "source": [
    "### Check building nodes and structure types\n",
    "\n",
    "defs.building_node__structure_type"
   ]
  },
  {
   "cell_type": "markdown",
   "metadata": {},
   "source": [
    "Seems ok.\n",
    "\n",
    "## Next, let's look at the archetype building definitions.\n",
    "\n",
    "Each row of the raw AmBIENCe data corresponds to an archetype building model in\n",
    "`ArchetypeBuildingModel.jl`, so let's examine the properties a bit."
   ]
  },
  {
   "cell_type": "code",
   "execution_count": null,
   "metadata": {},
   "outputs": [],
   "source": [
    "### Check building archetype params\n",
    "\n",
    "defs.building_archetype"
   ]
  },
  {
   "cell_type": "code",
   "execution_count": null,
   "metadata": {},
   "outputs": [],
   "source": [
    "### Check if building frame depth values have `nan` due to complex sqrt\n",
    "\n",
    "defs.building_archetype[defs.building_archetype[\"building_frame_depth_m\"].isna()]"
   ]
  },
  {
   "cell_type": "code",
   "execution_count": null,
   "metadata": {},
   "outputs": [],
   "source": [
    "### Check mean values\n",
    "\n",
    "cols = [\n",
    "    \"building_frame_depth_m\",\n",
    "    \"number_of_storeys\",\n",
    "    \"room_height_m\",\n",
    "    \"window_area_to_external_wall_ratio_m2_m2\",\n",
    "    \"floor_area_m2\",\n",
    "    \"wall_area_m2\",\n",
    "    \"window_area_m2\",\n",
    "    \"roof_area_m2\",\n",
    "]\n",
    "\n",
    "defs.building_archetype[cols].mean()"
   ]
  },
  {
   "cell_type": "code",
   "execution_count": null,
   "metadata": {},
   "outputs": [],
   "source": [
    "### Check median values\n",
    "\n",
    "defs.building_archetype[cols].median()"
   ]
  },
  {
   "cell_type": "markdown",
   "metadata": {},
   "source": [
    "On average, the parameters seem reasonable enough,\n",
    "although average `building_frame_depth_m` less than 8-6 metres seems a bit low-ish from a Finnish point-of-view."
   ]
  },
  {
   "cell_type": "code",
   "execution_count": null,
   "metadata": {},
   "outputs": [],
   "source": [
    "### Check maximum values\n",
    "\n",
    "defs.building_archetype[cols].max()"
   ]
  },
  {
   "cell_type": "markdown",
   "metadata": {},
   "source": [
    "The maximum values don't seem entirely unreasonable either,\n",
    "with the possible exception of a 71 m maximum building frame depth.\n",
    "Fortunately, it would seem that excessive building frame depths mostly occur\n",
    "in non-residential buildings, and large warehouses could reasonably have shapes like that."
   ]
  },
  {
   "cell_type": "code",
   "execution_count": null,
   "metadata": {},
   "outputs": [],
   "source": [
    "defs.building_archetype[defs.building_archetype[\"building_frame_depth_m\"] >= 30]"
   ]
  },
  {
   "cell_type": "code",
   "execution_count": null,
   "metadata": {},
   "outputs": [],
   "source": [
    "### Check minimum values\n",
    "\n",
    "defs.building_archetype[cols].min()"
   ]
  },
  {
   "cell_type": "markdown",
   "metadata": {},
   "source": [
    "However, the minimum values get pretty unrealistic.\n",
    "Cyprus has some clearly unreasonable data, with less than 1 m2 of floor area per storey. There are also several buildings with ground floor areas less than 10 m2,\n",
    "which I also find quite suspicious."
   ]
  },
  {
   "cell_type": "code",
   "execution_count": null,
   "metadata": {},
   "outputs": [],
   "source": [
    "ambience.data[ambience.data[\"REFERENCE BUILDING GROUND FLOOR AREA (m2)\"] <= 10.0]"
   ]
  },
  {
   "cell_type": "code",
   "execution_count": null,
   "metadata": {},
   "outputs": [],
   "source": []
  }
 ],
 "metadata": {
  "kernelspec": {
   "display_name": "atlitetoolbox",
   "language": "python",
   "name": "python3"
  },
  "language_info": {
   "codemirror_mode": {
    "name": "ipython",
    "version": 3
   },
   "file_extension": ".py",
   "mimetype": "text/x-python",
   "name": "python",
   "nbconvert_exporter": "python",
   "pygments_lexer": "ipython3",
   "version": "3.11.4"
  },
  "orig_nbformat": 4
 },
 "nbformat": 4,
 "nbformat_minor": 2
}
