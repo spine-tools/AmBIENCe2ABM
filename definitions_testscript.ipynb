{
 "cells": [
  {
   "cell_type": "markdown",
   "metadata": {},
   "source": [
    "# definitions_testscript.ipynb\n",
    "\n",
    "A script for testing and development of automatic generation of `ArchetypeBuildingModel.jl` definitions from AmBIENCe data."
   ]
  },
  {
   "cell_type": "code",
   "execution_count": null,
   "metadata": {},
   "outputs": [],
   "source": []
  }
 ],
 "metadata": {
  "language_info": {
   "name": "python"
  },
  "orig_nbformat": 4
 },
 "nbformat": 4,
 "nbformat_minor": 2
}
